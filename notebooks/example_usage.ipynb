{
 "cells": [
  {
   "metadata": {},
   "cell_type": "code",
   "outputs": [],
   "execution_count": null,
   "source": [
    "import torch\n",
    "\n",
    "data = torch.load(\"../data/bags/mil_bags.pth\")\n",
    "features, labels = data[\"features\"], data[\"labels\"]\n",
    "\n",
    "print(f\"Total bags: {len(features)}\")\n",
    "print(f\"Labels distribution: {set(labels)}\")\n"
   ],
   "id": "991b82a7f520ac08"
  }
 ],
 "metadata": {
  "kernelspec": {
   "display_name": "Python 3",
   "language": "python",
   "name": "python3"
  },
  "language_info": {
   "codemirror_mode": {
    "name": "ipython",
    "version": 2
   },
   "file_extension": ".py",
   "mimetype": "text/x-python",
   "name": "python",
   "nbconvert_exporter": "python",
   "pygments_lexer": "ipython2",
   "version": "2.7.6"
  }
 },
 "nbformat": 4,
 "nbformat_minor": 5
}
